{
  "cells": [
    {
      "cell_type": "markdown",
      "source": [
        "# LUIS sdk\r\n",
        "\r\n",
        "Notebook para exploración del servicio de LUIS para enriquecer la tabla storage del Bot."
      ],
      "metadata": {
        "nteract": {
          "transient": {
            "deleting": false
          }
        }
      }
    },
    {
      "cell_type": "code",
      "source": [
        "from azure.cognitiveservices.language.luis.runtime import LUISRuntimeClient\r\n",
        "from msrest.authentication import CognitiveServicesCredentials\r\n",
        "from azure.cognitiveservices.language.luis.authoring import LUISAuthoringClient\r\n",
        "from azure.cognitiveservices.language.luis.authoring.models import ApplicationCreateObject\r\n",
        "import requests\r\n",
        "import json\r\n",
        "from types import SimpleNamespace"
      ],
      "outputs": [],
      "execution_count": null,
      "metadata": {
        "jupyter": {
          "source_hidden": false,
          "outputs_hidden": false
        },
        "nteract": {
          "transient": {
            "deleting": false
          }
        }
      }
    },
    {
      "cell_type": "code",
      "source": [
        "#----------- Credenciales\r\n",
        "authoringKey = 'ad5103875f974213af5db4ca3d997460'\r\n",
        "authoringEndpoint = 'https://cog-luis-fna-parce-authoring.cognitiveservices.azure.com/'\r\n",
        "\r\n",
        "app_id = \"7e20d5a3-2949-449d-b550-0f2e66ddaa40\"\r\n",
        "predictionKey = 'bc07e0dc5d25489091aad03387caf06a'\r\n",
        "predictionEndpoint = 'https://EastUS2.api.cognitive.microsoft.com/'\r\n",
        "\r\n",
        "#----------- Client\r\n",
        "client = LUISAuthoringClient(authoringEndpoint, CognitiveServicesCredentials(authoringKey))\r\n",
        "\r\n",
        "#----------- Client runtime\r\n",
        "runtimeCredentials = CognitiveServicesCredentials(predictionKey)\r\n",
        "clientRuntime = LUISRuntimeClient(endpoint=predictionEndpoint, credentials=runtimeCredentials)"
      ],
      "outputs": [],
      "execution_count": null,
      "metadata": {
        "jupyter": {
          "source_hidden": false,
          "outputs_hidden": false
        },
        "nteract": {
          "transient": {
            "deleting": false
          }
        }
      }
    },
    {
      "cell_type": "code",
      "source": [
        "def LUIS(x):\r\n",
        "    x = str(x)\r\n",
        "\r\n",
        "    #----------- Configuración del REST CALL\r\n",
        "    headers = {}\r\n",
        "    params ={'query': x, 'subscription-key': predictionKey}\r\n",
        "\r\n",
        "    # Make the REST call.\r\n",
        "    response = requests.get(f'{predictionEndpoint}luis/prediction/v3.0/apps/{app_id}/slots/production/predict'\r\n",
        "                            , headers=headers\r\n",
        "                            , params=params)\r\n",
        "    \r\n",
        "    from types import SimpleNamespace    \r\n",
        "    a = response.json()\r\n",
        "    m = SimpleNamespace(**a)\r\n",
        "\r\n",
        "    b = m.prediction\r\n",
        "    n = SimpleNamespace(**b)\r\n",
        "\r\n",
        "    c = n.intents\r\n",
        "    o = SimpleNamespace(**c)\r\n",
        "\r\n",
        "    k = list(c.values())\r\n",
        "    p = k[0]\r\n",
        "    q = SimpleNamespace(**p)\r\n",
        "    \r\n",
        "    #, q.score\r\n",
        "    return str(n.topIntent)+'-'+str(q.score)"
      ],
      "outputs": [],
      "execution_count": null,
      "metadata": {
        "jupyter": {
          "source_hidden": false,
          "outputs_hidden": false
        },
        "nteract": {
          "transient": {
            "deleting": false
          }
        }
      }
    },
    {
      "cell_type": "code",
      "source": [
        "print(LUIS('Hola, como encuentro un formulario para retirar mis cesantias'))"
      ],
      "outputs": [],
      "execution_count": null,
      "metadata": {
        "jupyter": {
          "source_hidden": false,
          "outputs_hidden": false
        },
        "nteract": {
          "transient": {
            "deleting": false
          }
        }
      }
    },
    {
      "cell_type": "code",
      "source": [
        "entradas = [(1,'Hola, como encuentro un formulario para retirar mis cesantias')\r\n",
        "               ,(2,'Hola, como encuentro un formulario para declaracion de renta')]\r\n",
        "entradas"
      ],
      "outputs": [],
      "execution_count": null,
      "metadata": {
        "jupyter": {
          "source_hidden": false,
          "outputs_hidden": false
        },
        "nteract": {
          "transient": {
            "deleting": false
          }
        }
      }
    },
    {
      "cell_type": "code",
      "source": [
        "#-- Crear DF\r\n",
        "from pyspark.sql import SparkSession\r\n",
        "from pyspark.sql.types import ArrayType, StructField, StructType, StringType, IntegerType, FloatType\r\n",
        "\r\n",
        "# Create a schema for the dataframe\r\n",
        "schema = StructType([\r\n",
        "    StructField('Id', IntegerType(), True),\r\n",
        "    StructField('Texto', StringType(), True)\r\n",
        "])\r\n",
        "\r\n",
        "# Convert list to RDD\r\n",
        "rdd = spark.sparkContext.parallelize(entradas)\r\n",
        "\r\n",
        "# Create data frame\r\n",
        "df01 = spark.createDataFrame(rdd,schema)\r\n",
        "df01.show()"
      ],
      "outputs": [],
      "execution_count": null,
      "metadata": {
        "jupyter": {
          "source_hidden": false,
          "outputs_hidden": false
        },
        "nteract": {
          "transient": {
            "deleting": false
          }
        }
      }
    },
    {
      "cell_type": "code",
      "source": [
        "# Convert a Python function to PySpark UDF\r\n",
        "\r\n",
        "from pyspark.sql.functions import udf, col\r\n",
        "\r\n",
        "\"\"\" Converting function to UDF \"\"\"\r\n",
        "LUIS_UDF = udf(lambda z: LUIS(z),StringType())"
      ],
      "outputs": [],
      "execution_count": null,
      "metadata": {
        "jupyter": {
          "source_hidden": false,
          "outputs_hidden": false
        },
        "nteract": {
          "transient": {
            "deleting": false
          }
        }
      }
    },
    {
      "cell_type": "code",
      "source": [
        "# Aplicar la funcion UDF de LUIS a la columna de usuario\r\n",
        "df01 = df01.withColumn(\"LUIS\", LUIS_UDF(col(\"Texto\")))"
      ],
      "outputs": [],
      "execution_count": null,
      "metadata": {
        "jupyter": {
          "source_hidden": false,
          "outputs_hidden": false
        },
        "nteract": {
          "transient": {
            "deleting": false
          }
        },
        "collapsed": false
      }
    },
    {
      "cell_type": "code",
      "source": [
        "import pyspark\r\n",
        "\r\n",
        "# Split de la columna LUIS\r\n",
        "split_cols = pyspark.sql.functions.split(df01['LUIS'], '-')\r\n",
        "  \r\n",
        "# Aplicar split con '-'\r\n",
        "df = df01.withColumn('appLUIS', split_cols.getItem(0)).withColumn('LUIS_score', split_cols.getItem(1))\r\n",
        "\r\n",
        "# Eliminar col LUIS\r\n",
        "df = df.drop('LUIS')\r\n",
        "\r\n",
        "# Ajustar tipo de col en score\r\n",
        "df = df.withColumn(\"LUIS_score\", df[\"LUIS_score\"].cast(FloatType()))"
      ],
      "outputs": [],
      "execution_count": null,
      "metadata": {
        "jupyter": {
          "source_hidden": false,
          "outputs_hidden": false
        },
        "nteract": {
          "transient": {
            "deleting": false
          }
        },
        "collapsed": false
      }
    },
    {
      "cell_type": "code",
      "source": [
        "df.printSchema()\r\n",
        "df.show()"
      ],
      "outputs": [],
      "execution_count": null,
      "metadata": {
        "jupyter": {
          "source_hidden": false,
          "outputs_hidden": false
        },
        "nteract": {
          "transient": {
            "deleting": false
          }
        }
      }
    }
  ],
  "metadata": {
    "kernelspec": {
      "name": "synapse_pyspark",
      "display_name": "Synapse PySpark"
    },
    "language_info": {
      "name": "python"
    },
    "description": null,
    "save_output": true,
    "synapse_widget": {
      "version": "0.1",
      "state": {}
    }
  },
  "nbformat": 4,
  "nbformat_minor": 2
}