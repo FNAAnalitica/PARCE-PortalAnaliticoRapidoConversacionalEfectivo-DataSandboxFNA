{
  "cells": [
    {
      "cell_type": "code",
      "source": [
        "########### Python 3.6 #############\r\n",
        "#\r\n",
        "# This quickstart shows how to predict the intent of an utterance by using the LUIS REST APIs.\r\n",
        "# Esta guía rápida muestra cómo predecir la intención de un enunciado utilizando las API REST de LUIS.\r\n",
        "\r\n",
        "import requests\r\n",
        "\r\n",
        "try:\r\n",
        "\r\n",
        "    ##########\r\n",
        "    # Values to modify.\r\n",
        "\r\n",
        "    # YOUR-APP-ID: The App ID GUID found on the www.luis.ai Application Settings page.\r\n",
        "    appId = '7e20d5a3-2949-449d-b550-0f2e66ddaa40'\r\n",
        "\r\n",
        "    # YOUR-PREDICTION-KEY: Your LUIS prediction key, 32 character value.\r\n",
        "    prediction_key = 'bc07e0dc5d25489091aad03387caf06a'\r\n",
        "\r\n",
        "    # YOUR-PREDICTION-ENDPOINT: Replace with your prediction endpoint.\r\n",
        "    # For example, \"https://westus.api.cognitive.microsoft.com/\"\r\n",
        "    #prediction_endpoint = 'https://cog-luis-fna-parce.cognitiveservices.azure.com/'\r\n",
        "    prediction_endpoint = 'https://EastUS2.api.cognitive.microsoft.com/'\r\n",
        "\r\n",
        "    # The utterance you want to use.\r\n",
        "    utterance = 'necesito retirar mis cesantias como hago para ingresar y radicar la solicitud de retiro de cesantias y para que me de un numero de radicacion'\r\n",
        "    ##########\r\n",
        "\r\n",
        "    # The headers to use in this REST call.\r\n",
        "    headers = {\r\n",
        "    }\r\n",
        "\r\n",
        "    # The URL parameters to use in this REST call.\r\n",
        "    params ={\r\n",
        "        'query': utterance,\r\n",
        "        'timezoneOffset': '0',\r\n",
        "        'verbose': 'true',\r\n",
        "        'show-all-intents': 'true',\r\n",
        "        'spellCheck': 'false',\r\n",
        "        'staging': 'false',\r\n",
        "        'subscription-key': prediction_key\r\n",
        "    }\r\n",
        "\r\n",
        "\r\n",
        "    # Make the REST call.\r\n",
        "    response = requests.get(f'{prediction_endpoint}luis/prediction/v3.0/apps/{appId}/slots/production/predict', headers=headers, params=params)\r\n",
        "\r\n",
        "    # Display the results on the console.\r\n",
        "    print(response.json())\r\n",
        "\r\n",
        "\r\n",
        "except Exception as e:\r\n",
        "    # Display the error string.\r\n",
        "    print(f'{e}')"
      ],
      "outputs": [],
      "execution_count": null,
      "metadata": {}
    },
    {
      "cell_type": "code",
      "source": [
        "import requests\r\n",
        "\r\n",
        "##########\r\n",
        "# Values to modify.\r\n",
        "\r\n",
        "# YOUR-APP-ID: The App ID GUID found on the www.luis.ai Application Settings page.\r\n",
        "appId = '7e20d5a3-2949-449d-b550-0f2e66ddaa40'\r\n",
        "\r\n",
        "# YOUR-PREDICTION-KEY: Your LUIS prediction key, 32 character value.\r\n",
        "prediction_key = 'bc07e0dc5d25489091aad03387caf06a'\r\n",
        "\r\n",
        "# YOUR-PREDICTION-ENDPOINT: Replace with your prediction endpoint.\r\n",
        "# For example, \"https://westus.api.cognitive.microsoft.com/\"\r\n",
        "#prediction_endpoint = 'https://cog-luis-fna-parce.cognitiveservices.azure.com/'\r\n",
        "prediction_endpoint = 'https://EastUS2.api.cognitive.microsoft.com/'"
      ],
      "outputs": [],
      "execution_count": null,
      "metadata": {
        "jupyter": {
          "source_hidden": false,
          "outputs_hidden": false
        },
        "nteract": {
          "transient": {
            "deleting": false
          }
        }
      }
    },
    {
      "cell_type": "code",
      "source": [
        "# The utterance you want to use.\r\n",
        "utterance = 'necesito retirar mis cesantias'"
      ],
      "outputs": [],
      "execution_count": null,
      "metadata": {
        "jupyter": {
          "source_hidden": false,
          "outputs_hidden": false
        },
        "nteract": {
          "transient": {
            "deleting": false
          }
        }
      }
    },
    {
      "cell_type": "code",
      "source": [
        "# The headers to use in this REST call.\r\n",
        "headers = {}\r\n",
        "\r\n",
        "# The URL parameters to use in this REST call.\r\n",
        "params ={\r\n",
        "    'query': utterance,\r\n",
        "    'subscription-key': prediction_key\r\n",
        "}"
      ],
      "outputs": [],
      "execution_count": null,
      "metadata": {
        "jupyter": {
          "source_hidden": false,
          "outputs_hidden": false
        },
        "nteract": {
          "transient": {
            "deleting": false
          }
        }
      }
    },
    {
      "cell_type": "code",
      "source": [
        "# Make the REST call.\r\n",
        "response = requests.get(f'{prediction_endpoint}luis/prediction/v3.0/apps/{appId}/slots/production/predict'\r\n",
        "        , headers=headers\r\n",
        "        , params=params)\r\n",
        "\r\n",
        "# Display the results on the console.\r\n",
        "print(response.json())"
      ],
      "outputs": [],
      "execution_count": null,
      "metadata": {
        "jupyter": {
          "source_hidden": false,
          "outputs_hidden": false
        },
        "nteract": {
          "transient": {
            "deleting": false
          }
        }
      }
    }
  ],
  "metadata": {
    "kernelspec": {
      "name": "synapse_pyspark",
      "display_name": "Synapse PySpark"
    },
    "language_info": {
      "name": "python"
    },
    "description": null,
    "save_output": true,
    "synapse_widget": {
      "version": "0.1",
      "state": {}
    }
  },
  "nbformat": 4,
  "nbformat_minor": 2
}